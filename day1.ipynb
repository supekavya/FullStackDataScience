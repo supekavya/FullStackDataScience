{
 "cells": [
  {
   "cell_type": "code",
   "execution_count": null,
   "id": "afb6b6c7",
   "metadata": {},
   "outputs": [
    {
     "name": "stdout",
     "output_type": "stream",
     "text": [
      "[5, 7, 9, 11, 11, 13, 13, 15, 17, 17, 17, 19, 19, 19]\n"
     ]
    }
   ],
   "source": [
    "'''1. Prime Number Finder\n",
    " \n",
    "   * Function that returns all prime numbers up to `n`.\n",
    "   * Input: `n = 20`\n",
    "   * Output: `[2, 3, 5, 7, 11, 13, 17, 19]`'''\n",
    "def find_primes(n):\n",
    "    primes = []\n",
    "    for num in range(2, n + 1):\n",
    "        is_prime = True\n",
    "        for i in range(2, int(num**0.5) + 1):\n",
    "            if num % i == 0:\n",
    "                is_prime = False\n",
    "                break\n",
    "            if is_prime:\n",
    "                primes.append(num)\n",
    "    return primes\n",
    "n = 20  \n",
    "print(find_primes(n))"
   ]
  },
  {
   "cell_type": "code",
   "execution_count": 4,
   "id": "b98c527e",
   "metadata": {},
   "outputs": [
    {
     "name": "stdout",
     "output_type": "stream",
     "text": [
      "False\n"
     ]
    }
   ],
   "source": [
    "'''2. Palindrome Checker\n",
    " \n",
    "   * Check if a string is palindrome (ignoring spaces & case).\n",
    "   * Input: `\"Never odd or even\"`\n",
    "   * Output: `True`'''\n",
    "def is_palindrome(s):\n",
    "    cleaned = ''.join(c.lower() for c in s if c.isalnum())\n",
    "    return cleaned == cleaned[::-1]\n",
    "\n",
    "s = input(\"Enter a string: \")\n",
    "print(is_palindrome(s))"
   ]
  },
  {
   "cell_type": "code",
   "execution_count": null,
   "id": "b547ec61",
   "metadata": {},
   "outputs": [
    {
     "name": "stdout",
     "output_type": "stream",
     "text": [
      "True\n"
     ]
    }
   ],
   "source": [
    "'''Anagram Checker\n",
    " \n",
    "   * Function checks if two words are anagrams.\n",
    "   * Input: `\"listen\", \"silent\"`\n",
    "   * Output: `True`'''\n",
    "def anagrams(word1,word2):\n",
    "    return sorted(word1).lower() == sorted(word2).lower()\n",
    "word1 = input(\"Enter first word: \")\n",
    "word2 = input(\"Enter second word: \")\n",
    "print(anagrams(word1,word2))\n"
   ]
  },
  {
   "cell_type": "code",
   "execution_count": 7,
   "id": "b4d84abc",
   "metadata": {},
   "outputs": [
    {
     "name": "stdout",
     "output_type": "stream",
     "text": [
      "Vowels=5, Consonants=11\n"
     ]
    }
   ],
   "source": [
    "'''Count Vowels & Consonants\n",
    " \n",
    "   * Return count of vowels & consonants.\n",
    "   * Input: `\"hello\"`\n",
    "   * Output: `Vowels=2, Consonants=3`'''\n",
    "def count_vowels_consonants(s):\n",
    "    vowels = 'aeiouAEIOU'\n",
    "    v_count = sum(1 for char in s if char in vowels)\n",
    "    c_count = sum(1 for char in s if char.isalpha() and char not in vowels)\n",
    "    return v_count, c_count\n",
    "s=input(\"Enter a string: \")\n",
    "v,c=count_vowels_consonants(s)\n",
    "print(f\"Vowels={v}, Consonants={c}\")"
   ]
  },
  {
   "cell_type": "code",
   "execution_count": 8,
   "id": "3ddb3b23",
   "metadata": {},
   "outputs": [
    {
     "name": "stdout",
     "output_type": "stream",
     "text": [
      "amazing\n"
     ]
    }
   ],
   "source": [
    "'''Longest Word Finder\n",
    " \n",
    "* Return longest word in a sentence.\n",
    "* Input: `\"Python is amazing\"`\n",
    "* Output: `\"amazing\"`'''\n",
    "def longest_word(sentence):\n",
    "    words = sentence.split()\n",
    "    return max(words, key=len)\n",
    "sentence = input(\"Enter a sentence: \")\n",
    "print(longest_word(sentence))\n"
   ]
  },
  {
   "cell_type": "code",
   "execution_count": 9,
   "id": "57eccc27",
   "metadata": {},
   "outputs": [
    {
     "name": "stdout",
     "output_type": "stream",
     "text": [
      "s^J7l*\n"
     ]
    }
   ],
   "source": [
    "'''Random Password Generator (`random`, `string`)\n",
    " \n",
    "* Input: `length=6`\n",
    "* Output: `\"aB9@xQ\"`\n",
    "''' \n",
    "  \n",
    "import random\n",
    "import string\n",
    "def random_pswd(n):\n",
    "    len=6\n",
    "    if n<4:\n",
    "        return \"Length should be at least 4\"    \n",
    "    characters = string.ascii_letters + string.digits + string.punctuation\n",
    "    return ''.join(random.choice(characters) for i in range(n))\n",
    "n=int(input(\"Enter length of password: \"))\n",
    "print(random_pswd(n))\n",
    "    "
   ]
  },
  {
   "cell_type": "code",
   "execution_count": 14,
   "id": "0e765ec3",
   "metadata": {},
   "outputs": [
    {
     "name": "stdout",
     "output_type": "stream",
     "text": [
      "Select operation:\n",
      "1. Square Root\n",
      "2. Factorial\n",
      "3. Sine\n",
      "4. Cosine\n",
      "Factorial of 22 is 1124000727777607680000\n"
     ]
    }
   ],
   "source": [
    "'''Simple Calculator with `math`\n",
    " \n",
    "* Perform sqrt, factorial, sin, cos.\n",
    "* Input: `sqrt(25)`\n",
    "* Output: `5.0`'''\n",
    "import math\n",
    "def calculator():\n",
    "    print(\"Select operation:\")\n",
    "    print(\"1. Square Root\")\n",
    "    print(\"2. Factorial\")\n",
    "    print(\"3. Sine\")\n",
    "    print(\"4. Cosine\")\n",
    "    choice = input(\"Enter choice(1/2/3/4): \")\n",
    "    num = float(input(\"Enter number: \"))\n",
    "    match choice:\n",
    "        case '1':\n",
    "            print(f\"Square Root of {num} is {math.sqrt(num)}\")\n",
    "        case '2':\n",
    "            print(f\"Factorial of {int(num)} is {math.factorial(int(num))}\")\n",
    "        case '3':\n",
    "            print(f\"Sine of {num} is {math.sin(num)}\")\n",
    "        case '4':\n",
    "            print(f\"Cosine of {num} is {math.cos(num)}\")\n",
    "        case _:\n",
    "            print(\"Invalid input\")\n",
    "calculator()\n",
    "            \n"
   ]
  },
  {
   "cell_type": "code",
   "execution_count": 17,
   "id": "bef74e01",
   "metadata": {},
   "outputs": [
    {
     "name": "stdout",
     "output_type": "stream",
     "text": [
      "Counter({'Cat': 1, 'dog': 1, 'cat': 1})\n"
     ]
    }
   ],
   "source": [
    "'''Word Frequency Counter (`collections.Counter`)\n",
    " \n",
    "* Input: `\"cat dog cat\"`\n",
    "* Output: `{'cat':2,'dog':1}`\n",
    " '''\n",
    "from collections import Counter\n",
    "s=input(\"Enter a sentence:\")\n",
    "words=s.split()\n",
    "counter=Counter(words)\n",
    "print(counter)\n"
   ]
  },
  {
   "cell_type": "code",
   "execution_count": 20,
   "id": "796f5bfd",
   "metadata": {},
   "outputs": [
    {
     "ename": "_IncompleteInputError",
     "evalue": "incomplete input (2580639306.py, line 8)",
     "output_type": "error",
     "traceback": [
      "\u001b[1;36m  Cell \u001b[1;32mIn[20], line 8\u001b[1;36m\u001b[0m\n\u001b[1;33m    \u001b[0m\n\u001b[1;37m    ^\u001b[0m\n\u001b[1;31m_IncompleteInputError\u001b[0m\u001b[1;31m:\u001b[0m incomplete input\n"
     ]
    }
   ],
   "source": [
    "'''Weather Simulator (`random`)\n",
    " \n",
    "* Input: None\n",
    "* Output: `\"Weather: Sunny, Temp: 32°C\"`'''\n",
    "import random\n",
    "def weather():\n",
    "    \n",
    "    "
   ]
  }
 ],
 "metadata": {
  "kernelspec": {
   "display_name": "base",
   "language": "python",
   "name": "python3"
  },
  "language_info": {
   "codemirror_mode": {
    "name": "ipython",
    "version": 3
   },
   "file_extension": ".py",
   "mimetype": "text/x-python",
   "name": "python",
   "nbconvert_exporter": "python",
   "pygments_lexer": "ipython3",
   "version": "3.13.5"
  }
 },
 "nbformat": 4,
 "nbformat_minor": 5
}
