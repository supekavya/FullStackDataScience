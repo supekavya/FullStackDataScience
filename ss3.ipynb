{
 "cells": [
  {
   "cell_type": "code",
   "execution_count": 1,
   "id": "524b3f4a",
   "metadata": {},
   "outputs": [
    {
     "name": "stdout",
     "output_type": "stream",
     "text": [
      "\n",
      "--- Bill Details ---\n",
      "Item1 = 45 * 2 = 90\n",
      "Item2 = 40 * 4 = 160\n",
      "Item3 = 34 * 5 = 170\n",
      "Total Bill = 420\n"
     ]
    }
   ],
   "source": [
    "'''1 Scenario: A grocery shopkeeper wants to calculate the bill of 3 items. Prices and quantities should be stored in variables, and the program should display the total cost.\n",
    " \n",
    "Sample Input:\n",
    " \n",
    "Item1 Price: 50, Quantity: 2\n",
    "\n",
    "Item2 Price: 30, Quantity: 5\n",
    "\n",
    "Item3 Price: 20, Quantity: 3\n",
    " \n",
    " \n",
    "Expected Output:\n",
    " \n",
    "Total Bill = (50*2) + (30*5) + (20*3) = 100 + 150 + 60 = 310'''\n",
    "\n",
    "\n",
    "\n",
    "n = int(input(\"Enter number of items: \"))\n",
    "\n",
    "items = {}\n",
    "total = 0\n",
    "\n",
    "\n",
    "for i in range(1, n+1):\n",
    "    price = int(input(f\"Enter price of Item{i}: \"))\n",
    "    qty = int(input(f\"Enter quantity of Item{i}: \"))\n",
    "    items[f\"Item{i}\"] = {\"price\": price, \"quantity\": qty}\n",
    "    total += price * qty\n",
    "\n",
    "\n",
    "print(\"\\n--- Bill Details ---\")\n",
    "for item, details in items.items():\n",
    "    cost = details[\"price\"] * details[\"quantity\"]\n",
    "    print(f\"{item} = {details['price']} * {details['quantity']} = {cost}\")\n",
    "\n",
    "print(\"Total Bill =\", total)\n",
    "\n",
    "\n",
    " \n",
    " \n"
   ]
  },
  {
   "cell_type": "code",
   "execution_count": 2,
   "id": "fbc9121d",
   "metadata": {},
   "outputs": [
    {
     "name": "stdout",
     "output_type": "stream",
     "text": [
      "Addition = 19.0\n",
      "Subtraction = 11.0\n",
      "Multiplication = 60.0\n",
      "Division = 3.75\n",
      "Modulus = 3.0\n"
     ]
    }
   ],
   "source": [
    "'''2 Build a calculator that takes two numbers and performs addition, subtraction, multiplication, division, and modulus.\n",
    " \n",
    "Sample Input:\n",
    " \n",
    "Enter first number: 15\n",
    "\n",
    "Enter second number: 4\n",
    " \n",
    " \n",
    "Expected Output:\n",
    " \n",
    "Addition = 19\n",
    "\n",
    "Subtraction = 11\n",
    "\n",
    "Multiplication = 60\n",
    "\n",
    "Division = 3.75\n",
    "\n",
    "Modulus = 3\n",
    "'''\n",
    "num1 = float(input(\"Enter first number: \"))\n",
    "num2 = float(input(\"Enter second number: \"))\n",
    "addition = num1 + num2\n",
    "subtraction = num1 - num2\n",
    "multiplication = num1 * num2\n",
    "division = num1 / num2\n",
    "modulus = num1 % num2\n",
    "print(f\"Addition = {addition}\")\n",
    "print(f\"Subtraction = {subtraction}\")\n",
    "print(f\"Multiplication = {multiplication}\")\n",
    "print(f\"Division = {division}\")\n",
    "print(f\"Modulus = {modulus}\")\n"
   ]
  },
  {
   "cell_type": "code",
   "execution_count": 3,
   "id": "69e91ee3",
   "metadata": {},
   "outputs": [
    {
     "name": "stdout",
     "output_type": "stream",
     "text": [
      "Grade: B (Good)\n"
     ]
    }
   ],
   "source": [
    "'''3 A teacher wants a grading system where marks are input, and the grade is displayed.\n",
    " \n",
    "Sample Input:\n",
    " \n",
    "Enter marks: 82\n",
    " \n",
    " \n",
    "Expected Output:\n",
    " \n",
    "Grade: A (Excellent)\n",
    " \n",
    " \n",
    "(Rules: >=90 → A+, 80–89 → A, 70–79 → B, 60–69 → C, <60 → Fail)'''\n",
    "\n",
    "marks = int(input(\"Enter marks: \"))\n",
    "if marks >= 90:\n",
    "    grade = \"A+ (Outstanding)\"\n",
    "elif marks >= 80:\n",
    "    grade = \"A (Excellent)\"\n",
    "elif marks >= 70:\n",
    "    grade = \"B (Good)\"  \n",
    "elif marks >= 60:\n",
    "    grade = \"C (Average)\"\n",
    "else:\n",
    "    grade = \"Fail (Needs Improvement)\"  \n",
    "print(f\"Grade: {grade}\")\n"
   ]
  },
  {
   "cell_type": "code",
   "execution_count": 4,
   "id": "16e349e7",
   "metadata": {},
   "outputs": [
    {
     "name": "stdout",
     "output_type": "stream",
     "text": [
      "Enter marks of 5 students:\n",
      "Highest Marks = 10.0\n",
      "Lowest Marks = 2.0\n",
      "Average Marks = 5.40\n"
     ]
    }
   ],
   "source": [
    "'''4 Student Marks List\n",
    "\n",
    "Scenario: Store marks of 5 students in a list. Display the highest, lowest, and average marks.\n",
    " \n",
    "Sample Input:\n",
    " \n",
    "Marks: [45, 78, 88, 56, 90]\n",
    " \n",
    " \n",
    "Expected Output:\n",
    " \n",
    "Highest\" Marks = 90\n",
    "\n",
    "Lowest Marks = 45\n",
    "\n",
    "Average Marks = 71.4\n",
    "'''\n",
    "n=int(input(\"Enter the no.of students\"))\n",
    "print(f\"Enter marks of {n} students:\")\n",
    "marks = []\n",
    "for i in range(n):\n",
    "    mark = float(input(f\"Student {i+1} marks: \"))\n",
    "    marks.append(mark)\n",
    "highest = max(marks)\n",
    "lowest = min(marks) \n",
    "average = sum(marks) / n\n",
    "print(f\"Highest Marks = {highest}\") \n",
    "print(f\"Lowest Marks = {lowest}\")\n",
    "print(f\"Average Marks = {average:.2f}\")\n"
   ]
  },
  {
   "cell_type": "code",
   "execution_count": null,
   "id": "6e1b20e3",
   "metadata": {},
   "outputs": [],
   "source": [
    "'''5 Create a phonebook using a dictionary where names are keys and numbers are values. Allow searching for a number by name.\n",
    " \n",
    "Sample Input:\n",
    " \n",
    "Phonebook = {\"Suhel\": 9876543210, \"Ravi\": 9123456780, \"Anita\": 9988776655}\n",
    "\n",
    "Search Name: Ravi\n",
    " \n",
    " \n",
    "Expected Output:\n",
    " \n",
    "Phone Number of Ravi: 9123456780\n",
    "'''\n",
    "phonebook = {}\n",
    "n = int(input(\"Enter number of contacts to add: \"))\n",
    "for i in range(n):  \n",
    "    name = input(\"Enter name: \")\n",
    "    number = input(\"Enter phone number: \")\n",
    "    phonebook[name] = number    \n",
    "search_name = input(\"Enter name to search: \")\n",
    "if search_name in phonebook:\n",
    "    print(f\"Phone Number of {search_name}: {phonebook[search_name]}\")  \n",
    "else:\n",
    "    print(\"No name match\") \n"
   ]
  },
  {
   "cell_type": "code",
   "execution_count": null,
   "id": "41f7aa27",
   "metadata": {},
   "outputs": [],
   "source": [
    "'''6 Write a program to count the number of words, characters, and vowels in a sentence.\n",
    " \n",
    " \n",
    "Sample Input:\n",
    " \n",
    " \n",
    "Enter sentence: \"Python is awesome\"\n",
    " \n",
    " \n",
    " \n",
    "Expected Output:\n",
    " \n",
    " \n",
    "Total Words = 3\n",
    "Total Characters = 16\n",
    "Total Vowels = 6\n",
    " \n",
    "'''\n",
    "sentence = input(\"Enter sentence: \")\n",
    "words = sentence.split()    \n",
    "num_words = len(words)\n",
    "num_characters = len(sentence)  \n",
    "num_vowels = sum(1 for char in sentence.lower() if char in 'aeiou')\n",
    "print(f\"Total Words = {num_words}\") \n",
    "print(f\"Total Characters = {num_characters}\")\n",
    "print(f\"Total Vowels = {num_vowels}\")"
   ]
  },
  {
   "cell_type": "code",
   "execution_count": 6,
   "id": "67e6d9f5",
   "metadata": {},
   "outputs": [
    {
     "name": "stdout",
     "output_type": "stream",
     "text": [
      "Compound Interest = 512.50\n",
      "Total Amount = 5512.50\n"
     ]
    }
   ],
   "source": [
    "'''7 A bank provides simple interest and compound interest. A user inputs principal, rate, time, and type of interest. Program should calculate accordingly.\n",
    " \n",
    " \n",
    "Sample Input:\n",
    " \n",
    " \n",
    "Principal = 5000\n",
    "Rate = 5\n",
    "Time = 2\n",
    "Interest Type = Compound\n",
    " \n",
    " \n",
    " \n",
    "Expected Output:\n",
    " \n",
    " \n",
    "Compound Interest = 512.50\n",
    "Total Amount = 5512.50\n",
    " \n",
    "''' \n",
    "principal = float(input(\"Enter principal amount: \"))\n",
    "rate = float(input(\"Enter rate of interest (in %): \"))  \n",
    "time = float(input(\"Enter time (in years): \"))  \n",
    "interest_type = input(\"Enter interest type (Simple/Compound): \").strip().lower()\n",
    "if interest_type == \"simple\":\n",
    "    interest = (principal * rate * time) / 100\n",
    "    total_amount = principal + interest\n",
    "    print(f\"Simple Interest = {interest:.2f}\")\n",
    "    print(f\"Total Amount = {total_amount:.2f}\")\n",
    "elif interest_type == \"compound\":\n",
    "    total_amount = principal * (1 + rate / 100) ** time\n",
    "    interest = total_amount - principal\n",
    "    print(f\"Compound Interest = {interest:.2f}\")\n",
    "    print(f\"Total Amount = {total_amount:.2f}\") \n",
    "else:\n",
    "    print(\"Invalid interest type. Please enter 'Simple' or 'Compound'.\")    \n",
    "    "
   ]
  },
  {
   "cell_type": "code",
   "execution_count": 7,
   "id": "adcd4b3d",
   "metadata": {},
   "outputs": [
    {
     "name": "stdout",
     "output_type": "stream",
     "text": [
      "Encrypted Message: KHOOR\n"
     ]
    }
   ],
   "source": [
    "'''8 Implement a Caesar Cipher encryption. User inputs a message and a shift key. Program outputs the encrypted text using operators.\n",
    " \n",
    " \n",
    "Sample Input:\n",
    " \n",
    " \n",
    "Message = \"HELLO\"\n",
    "Shift = 3\n",
    " \n",
    " \n",
    " \n",
    "Expected Output:\n",
    " \n",
    " \n",
    "Encrypted Message: KHOOR\n",
    " \n",
    "'''\n",
    "def caesar_cipher(message, shift):\n",
    "    encrypted_message = \"\"\n",
    "    for char in message:\n",
    "        if char.isalpha():  \n",
    "            shift_base = ord('A') if char.isupper() else ord('a')\n",
    "            encrypted_char = chr((ord(char) - shift_base + shift) % 26 + shift_base)\n",
    "            encrypted_message += encrypted_char\n",
    "        else:\n",
    "            encrypted_message += char  \n",
    "    return encrypted_message    \n",
    "message = input(\"Enter message: \")\n",
    "shift = int(input(\"Enter shift value: \"))\n",
    "encrypted = caesar_cipher(message, shift)\n",
    "print(f\"Encrypted Message: {encrypted}\")\n"
   ]
  },
  {
   "cell_type": "code",
   "execution_count": 8,
   "id": "fbc920bb",
   "metadata": {},
   "outputs": [
    {
     "name": "stdout",
     "output_type": "stream",
     "text": [
      "PIN Verified.\n",
      "Withdrawal Successful. Remaining Balance = 2000\n"
     ]
    }
   ],
   "source": [
    "'''9 Build an ATM where users can withdraw money if they have sufficient balance, otherwise display “Insufficient Balance”. Handle PIN verification too.\n",
    " \n",
    " \n",
    "Sample Input:\n",
    " \n",
    " \n",
    "PIN = 1234\n",
    "Balance = 5000\n",
    "Withdraw = 2000\n",
    " \n",
    " \n",
    " \n",
    "Expected Output:\n",
    " \n",
    " \n",
    "PIN Verified.\n",
    "Withdrawal Successful. Remaining Balance = 3000'''\n",
    "pin=int(input(\"Enter your PIN: \"))\n",
    "stored_pin=1234\n",
    "if pin==stored_pin:\n",
    "    print(\"PIN Verified.\")\n",
    "    balance=5000\n",
    "    withdraw=int(input(\"Enter amount to withdraw: \"))\n",
    "    if withdraw<=balance:\n",
    "        balance-=withdraw\n",
    "        print(f\"Withdrawal Successful. Remaining Balance = {balance}\")\n",
    "    else:\n",
    "        print(\"Insufficient Balance\")       \n",
    "else:\n",
    "    print(\"Incorrect PIN. Access Denied.\")\n",
    "\n",
    "\n",
    "\n"
   ]
  },
  {
   "cell_type": "code",
   "execution_count": 9,
   "id": "b5fbe833",
   "metadata": {},
   "outputs": [
    {
     "name": "stdout",
     "output_type": "stream",
     "text": [
      "Current Books: ['Python Basics', 'AI Fundamentals', 'Machine Learning']\n",
      "Total Books: 3\n"
     ]
    }
   ],
   "source": [
    "'''10 Store a list of books in a library. Program should allow adding, removing, and displaying all books. Also, show total number of books.\n",
    " \n",
    " \n",
    "Sample Input:\n",
    " \n",
    " \n",
    "Books = [\"Python Basics\", \"Data Science\", \"AI Fundamentals\"]\n",
    "Add Book: \"Machine Learning\"\n",
    "Remove Book: \"Data Science\"\n",
    " \n",
    " \n",
    " \n",
    "Expected Output:\n",
    " \n",
    " \n",
    "Current Books: ['Python Basics', 'AI Fundamentals', 'Machine Learning']\n",
    "Total Books: 3\n",
    " '''\n",
    " \n",
    " \n",
    "books = [\"Python Basics\", \"Data Science\", \"AI Fundamentals\"]\n",
    "books.append(\"Machine Learning\")\n",
    "if \"Data Science\" in books:\n",
    "    books.remove(\"Data Science\")\n",
    "print(\"Current Books:\", books)\n",
    "print(\"Total Books:\", len(books))\n"
   ]
  }
 ],
 "metadata": {
  "kernelspec": {
   "display_name": "venv",
   "language": "python",
   "name": "python3"
  },
  "language_info": {
   "codemirror_mode": {
    "name": "ipython",
    "version": 3
   },
   "file_extension": ".py",
   "mimetype": "text/x-python",
   "name": "python",
   "nbconvert_exporter": "python",
   "pygments_lexer": "ipython3",
   "version": "3.11.0"
  }
 },
 "nbformat": 4,
 "nbformat_minor": 5
}
