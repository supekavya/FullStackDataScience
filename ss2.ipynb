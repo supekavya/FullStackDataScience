{
 "cells": [
  {
   "cell_type": "code",
   "execution_count": null,
   "id": "0b531600",
   "metadata": {},
   "outputs": [
    {
     "name": "stdout",
     "output_type": "stream",
     "text": [
      " Access Denied: Not a Prime Code\n"
     ]
    }
   ],
   "source": [
    "#A security system checks whether the entered code is prime for extra authentication. Write a program to check if a given number is prime.\n",
    "\n",
    "def is_prime(n):\n",
    "    \n",
    "    if n <= 1:\n",
    "        return False\n",
    "\n",
    "    for i in range(2, int(n**0.5) + 1):\n",
    "        if n % i == 0:\n",
    "            return False\n",
    "    return True\n",
    "\n",
    "code = int(input(\"Enter the security code: \"))\n",
    "\n",
    "if is_prime(code):\n",
    "    print(\" Access Granted: Prime Code\")\n",
    "else:\n",
    "    print(\" Access Denied: Not a Prime Code\")\n"
   ]
  },
  {
   "cell_type": "code",
   "execution_count": 2,
   "id": "5782f36f",
   "metadata": {},
   "outputs": [
    {
     "name": "stdout",
     "output_type": "stream",
     "text": [
      "The second highest score is: 85\n"
     ]
    }
   ],
   "source": [
    "#In a class test, a teacher wants to know the second highest score among students. Write a program to find the second largest number in a list.\n",
    "def second_largest(numbers):\n",
    "    unique_numbers = list(set(numbers))\n",
    "    \n",
    "    if len(unique_numbers) < 2:\n",
    "        return None  \n",
    "    \n",
    "    unique_numbers.sort()\n",
    "    return unique_numbers[-2]\n",
    "\n",
    "scores = [50, 75, 90, 85, 90, 60]\n",
    "\n",
    "second_highest = second_largest(scores)\n",
    "\n",
    "if second_highest is not None:\n",
    "    print(\"The second highest score is:\", second_highest)\n",
    "else:\n",
    "    print(\"Not enough unique scores to determine second highest.\")\n"
   ]
  },
  {
   "cell_type": "code",
   "execution_count": 3,
   "id": "70a4d4bf",
   "metadata": {},
   "outputs": [
    {
     "name": "stdout",
     "output_type": "stream",
     "text": [
      "The sum of even numbers from 1 to 50 is: 650\n"
     ]
    }
   ],
   "source": [
    "#A fitness app counts only even-numbered steps to calculate “balanced walking.” Write a program to find the sum of even numbers from 1 to 50.\n",
    "\n",
    "total = 0\n",
    "for i in range(1, 51):\n",
    "    if i % 2 == 0:\n",
    "        total += i\n",
    "\n",
    "print(\"The sum of even numbers from 1 to 50 is:\", total)\n"
   ]
  },
  {
   "cell_type": "code",
   "execution_count": 5,
   "id": "ca0b0cb9",
   "metadata": {},
   "outputs": [
    {
     "name": "stdout",
     "output_type": "stream",
     "text": [
      "Uppercase letters: 0\n",
      "Lowercase letters: 0\n"
     ]
    }
   ],
   "source": [
    "#A typing speed test wants to know how many uppercase and lowercase letters a user typed. Write a program to count uppercase and lowercase characters in a string.\n",
    "def count_case(text):\n",
    "    upper_count = 0\n",
    "    lower_count = 0\n",
    "    \n",
    "    for char in text:\n",
    "        if char.isupper():\n",
    "            upper_count += 1\n",
    "        elif char.islower():\n",
    "            lower_count += 1\n",
    "    \n",
    "    return upper_count, lower_count\n",
    "user_input = input(\"Enter your typed text: \")\n",
    "\n",
    "upper, lower = count_case(user_input)\n",
    "\n",
    "print(\"Uppercase letters:\", upper)\n",
    "print(\"Lowercase letters:\", lower)\n"
   ]
  },
  {
   "cell_type": "code",
   "execution_count": 6,
   "id": "c35d9b4e",
   "metadata": {},
   "outputs": [
    {
     "name": "stdout",
     "output_type": "stream",
     "text": [
      "Fibonacci sequence up to 23 terms:\n",
      "[0, 1, 1, 2, 3, 5, 8, 13, 21, 34, 55, 89, 144, 233, 377, 610, 987, 1597, 2584, 4181, 6765, 10946, 17711]\n"
     ]
    }
   ],
   "source": [
    "#A financial tool simulates Fibonacci-like growth in savings. Write a program to generate the Fibonacci sequence up to n terms.\n",
    "def fibonacci(n):\n",
    "    sequence = []\n",
    "    a, b = 0, 1\n",
    "    \n",
    "    for _ in range(n):\n",
    "        sequence.append(a)\n",
    "        a, b = b, a + b\n",
    "    \n",
    "    return sequence\n",
    "n = int(input(\"Enter number of terms: \"))\n",
    "\n",
    "if n <= 0:\n",
    "    print(\"Please enter a positive integer.\")\n",
    "else:\n",
    "    print(\"Fibonacci sequence up to\", n, \"terms:\")\n",
    "    print(fibonacci(n))\n"
   ]
  },
  {
   "cell_type": "code",
   "execution_count": 7,
   "id": "bd5bc903",
   "metadata": {},
   "outputs": [
    {
     "name": "stdout",
     "output_type": "stream",
     "text": [
      "\"rear\" and \"earr\" are anagrams.\n"
     ]
    }
   ],
   "source": [
    "#A word puzzle game checks if two words are anagrams (same letters but shuffled). Write a program to check if two strings are anagrams.\n",
    "def are_anagrams(str1, str2):\n",
    "    return sorted(str1) == sorted(str2)\n",
    "word1 = input(\"Enter the first word: \")\n",
    "word2 = input(\"Enter the second word: \")\n",
    "if are_anagrams(word1, word2):\n",
    "    print(f'\"{word1}\" and \"{word2}\" are anagrams.')"
   ]
  },
  {
   "cell_type": "code",
   "execution_count": null,
   "id": "693b4c98",
   "metadata": {},
   "outputs": [
    {
     "name": "stdout",
     "output_type": "stream",
     "text": [
      "32 is NOT a Perfect Number ❌\n"
     ]
    }
   ],
   "source": [
    "#A science experiment needs to verify whether a number is perfect (sum of divisors = number). Write a program to check if a number is a perfect number.\n",
    "def is_perfect(num):\n",
    "    if num < 2:\n",
    "        return False\n",
    "    \n",
    "    divisors_sum = 1  \n",
    "    for i in range(2, num // 2 + 1):\n",
    "        if num % i == 0:\n",
    "            divisors_sum += i\n",
    "    \n",
    "    return divisors_sum == num\n",
    "n = int(input(\"Enter a number: \"))\n",
    "\n",
    "if is_perfect(n):\n",
    "    print(n, \"is a Perfect Number \")\n",
    "else:\n",
    "    print(n, \"is NOT a Perfect Number\")\n"
   ]
  },
  {
   "cell_type": "code",
   "execution_count": null,
   "id": "41b4e7c5",
   "metadata": {},
   "outputs": [
    {
     "name": "stdout",
     "output_type": "stream",
     "text": [
      "\n",
      "Total Marks: 254.0\n",
      "Percentage: 50.8 %\n",
      "Grade: C\n"
     ]
    }
   ],
   "source": [
    "#A school report system calculates percentage and assigns grades:≥90 → A≥75 → B≥50 → C<50 → FailWrite a program that takes 5 subject marks, calculates percentage, and prints the grade.\n",
    "\n",
    "marks = []\n",
    "for i in range(1, 6):\n",
    "    mark = float(input(f\"Enter marks for subject {i}: \"))\n",
    "    marks.append(mark)\n",
    "total = sum(marks)\n",
    "percentage = total / 5\n",
    "if percentage >= 90:\n",
    "    grade = \"A\"\n",
    "elif percentage >= 75:\n",
    "    grade = \"B\"\n",
    "elif percentage >= 50:\n",
    "    grade = \"C\"\n",
    "else:\n",
    "    grade = \"Fail\"\n",
    "\n",
    "print(\"\\nTotal Marks:\", total)\n",
    "print(\"Percentage:\", percentage, \"%\")\n",
    "print(\"Grade:\", grade)\n",
    "\n"
   ]
  },
  {
   "cell_type": "code",
   "execution_count": 10,
   "id": "c1195a14",
   "metadata": {},
   "outputs": [
    {
     "name": "stdout",
     "output_type": "stream",
     "text": [
      "Bill Amount: 6700.0\n",
      "Tip to be added: 1005.0\n",
      "Total Payable: 7705.0\n"
     ]
    }
   ],
   "source": [
    "#Restaurant Tip CalculatorA restaurant suggests tips based on the bill:Less than 500 → 5% tip500–1000 → 10% tipMore than 1000 → 15% tipWrite a program that takes the bill amount and prints the tip to be added.\n",
    "bill = float(input(\"Enter the bill amount: \"))\n",
    "if bill < 500:\n",
    "    tip = bill * 0.05\n",
    "elif bill <= 1000:\n",
    "    tip = bill * 0.10\n",
    "else:\n",
    "    tip = bill * 0.15\n",
    "print(\"Bill Amount:\", bill)\n",
    "print(\"Tip to be added:\", tip)\n",
    "print(\"Total Payable:\", bill + tip)\n"
   ]
  },
  {
   "cell_type": "code",
   "execution_count": 11,
   "id": "0525bef4",
   "metadata": {},
   "outputs": [
    {
     "name": "stdout",
     "output_type": "stream",
     "text": [
      "Cheapest option will cost: ₹ 200\n"
     ]
    }
   ],
   "source": [
    "#Gym Membership PlanA gym charges:₹500 per month₹2700 for 6 months (discounted)₹5000 for 12 months (discounted)Write a program where the user enters the membership period (months) and the program prints the cheapest option.\n",
    "def cheapest_plan(months):\n",
    "    cost_monthly = months * 500\n",
    "    six_pack = (months // 6) * 2700 + (months % 6) * 500\n",
    "    twelve_pack = (months // 12) * 5000 + (months % 12 // 6) * 2700 + (months % 6) * 50\n",
    "    cheapest = min(cost_monthly, six_pack, twelve_pack)\n",
    "\n",
    "    return cheapest\n",
    "\n",
    "months = int(input(\"Enter membership period in months: \"))\n",
    "\n",
    "print(\"Cheapest option will cost: ₹\", cheapest_plan(months))\n"
   ]
  },
  {
   "cell_type": "code",
   "execution_count": 12,
   "id": "23fd9a9d",
   "metadata": {},
   "outputs": [
    {
     "name": "stdout",
     "output_type": "stream",
     "text": [
      "Attendance Percentage: 125.58 %\n",
      "Eligible for Exam\n"
     ]
    }
   ],
   "source": [
    "#Exam Eligibility\n",
    "\n",
    "#A student must have at least 75% attendance to sit for the exam.\n",
    "#Write a program that takes total classes and classes attended as input and prints whether the student is eligible or not eligible.\n",
    "\n",
    "\n",
    "total_classes = int(input(\"Enter total number of classes: \"))\n",
    "attended_classes = int(input(\"Enter number of classes attended: \"))\n",
    "\n",
    "\n",
    "attendance = (attended_classes / total_classes) * 100\n",
    "print(\"Attendance Percentage:\", round(attendance, 2), \"%\")\n",
    "\n",
    "if attendance >= 75:\n",
    "    print(\"Eligible for Exam\")\n",
    "else:\n",
    "    print(\"Not Eligible for Exam\")\n"
   ]
  },
  {
   "cell_type": "code",
   "execution_count": 13,
   "id": "aec43e60",
   "metadata": {},
   "outputs": [
    {
     "name": "stdout",
     "output_type": "stream",
     "text": [
      "Transaction Successful! Withdrawn: 4000\n"
     ]
    }
   ],
   "source": [
    "#ATM Withdrawal\n",
    "\n",
    "#An ATM only allows withdrawals in multiples of 100.\n",
    "#Write a program that takes the withdrawal amount and prints whether the transaction is successful or failed.\n",
    "\n",
    "\n",
    "amount = int(input(\"Enter withdrawal amount: \"))\n",
    "\n",
    "\n",
    "if amount % 100 == 0 and amount > 0:\n",
    "    print(\"Transaction Successful! Withdrawn:\", amount)\n",
    "else:\n",
    "    print(\"Transaction Failed! Amount must be in multiples of 100.\")\n"
   ]
  },
  {
   "cell_type": "code",
   "execution_count": 14,
   "id": "a3ee6d73",
   "metadata": {},
   "outputs": [
    {
     "name": "stdout",
     "output_type": "stream",
     "text": [
      "Nice weather, go out!\n"
     ]
    }
   ],
   "source": [
    "# Weather Suggestion\n",
    "\n",
    "#Write a program that takes the temperature as input and gives a suggestion:\n",
    "\n",
    "#35 → \"Too hot, stay indoors!\"\n",
    "\n",
    "#20–35 → \"Nice weather, go out!\"\n",
    "\n",
    "#< 20 → \"It’s cold, wear warm clothes!\"\n",
    "\n",
    "temp = float(input(\"Enter the temperature (°C): \"))\n",
    "\n",
    "\n",
    "if temp > 35:\n",
    "    print(\"Too hot, stay indoors!\")\n",
    "elif 20 <= temp <= 35:\n",
    "    print(\"Nice weather, go out!\")\n",
    "else:\n",
    "    print(\"It’s cold, wear warm clothes!\")\n"
   ]
  },
  {
   "cell_type": "code",
   "execution_count": 15,
   "id": "045269b5",
   "metadata": {},
   "outputs": [
    {
     "name": "stdout",
     "output_type": "stream",
     "text": [
      "Fine Amount: ₹ 10\n"
     ]
    }
   ],
   "source": [
    "\n",
    "#Library Fine\n",
    "\n",
    "#A library charges a fine for late book returns:\n",
    "\n",
    "#1–5 days → ₹10\n",
    "\n",
    "#6–10 days → ₹50\n",
    "\n",
    "#10 days → ₹100\n",
    "#Write a program that takes the number of late days as input and prints the fine amount.\n",
    "\n",
    "# Input: number of late days\n",
    "days = int(input(\"Enter number of late days: \"))\n",
    "\n",
    "\n",
    "if 1 <= days <= 5:\n",
    "    fine = 10\n",
    "elif 6 <= days <= 10:\n",
    "    fine = 50\n",
    "elif days > 10:\n",
    "    fine = 100\n",
    "else:\n",
    "    fine = 0 \n",
    "\n",
    "print(\"Fine Amount: ₹\", fine)\n",
    "\n"
   ]
  },
  {
   "cell_type": "code",
   "execution_count": 16,
   "id": "0f648da3",
   "metadata": {},
   "outputs": [
    {
     "name": "stdout",
     "output_type": "stream",
     "text": [
      "Electricity Bill Amount: ₹ 215\n"
     ]
    }
   ],
   "source": [
    "# Electricity Bill Calculator\n",
    "\n",
    "#An electricity board charges:\n",
    "\n",
    "#First 100 units → ₹5 per unit\n",
    "\n",
    "#Next 100 units (101–200) → ₹7 per unit\n",
    "\n",
    "#Above 200 units → ₹10 per unit\n",
    "# a program that takes units consumed as input and prints the bill amount.\n",
    "\n",
    "\n",
    "units = int(input(\"Enter units consumed: \"))\n",
    "\n",
    "\n",
    "if units <= 100:\n",
    "    bill = units * 5\n",
    "elif units <= 200:\n",
    "    bill = (100 * 5) + ((units - 100) * 7)\n",
    "else:\n",
    "    bill = (100 * 5) + (100 * 7) + ((units - 200) * 10)\n",
    "\n",
    "print(\"Electricity Bill Amount: ₹\", bill)\n"
   ]
  },
  {
   "cell_type": "code",
   "execution_count": null,
   "id": "91d4b1c8",
   "metadata": {},
   "outputs": [],
   "source": []
  }
 ],
 "metadata": {
  "kernelspec": {
   "display_name": "venv",
   "language": "python",
   "name": "python3"
  },
  "language_info": {
   "codemirror_mode": {
    "name": "ipython",
    "version": 3
   },
   "file_extension": ".py",
   "mimetype": "text/x-python",
   "name": "python",
   "nbconvert_exporter": "python",
   "pygments_lexer": "ipython3",
   "version": "3.11.0"
  }
 },
 "nbformat": 4,
 "nbformat_minor": 5
}
