{
 "cells": [
  {
   "cell_type": "code",
   "execution_count": 1,
   "id": "789ca54a",
   "metadata": {},
   "outputs": [
    {
     "name": "stdout",
     "output_type": "stream",
     "text": [
      "Total number of words: 2995\n"
     ]
    }
   ],
   "source": [
    "'''Problem: Given a text file, count the total number of words.'''\n",
    "filename=\"week2_day1_assign.ipynb\"\n",
    "with open(filename,'r') as f:\n",
    "    lines=f.read();\n",
    "    words=lines.split()\n",
    "    print(\"Total number of words:\",len(words))"
   ]
  },
  {
   "cell_type": "code",
   "execution_count": null,
   "id": "073a7b2d",
   "metadata": {},
   "outputs": [],
   "source": [
    "'''Problem: Write a program to check if a password is \n",
    "strong (at least 8 characters, contains uppercase, lowercase,\n",
    "digit, and special char).'''\n",
    "def check_password(password):\n",
    "    if len(password)<8:\n",
    "        return False\n",
    "    has_upper=any(c.isupper() for c in password)\n",
    "    has_lower=any(c.islower() for c in password)\n",
    "    has_digit=any(c.isdigit() for c in password)\n",
    "    has_special=any(not c.isalnum() for c in password)\n",
    "    return has_upper and has_lower and has_digit and has_special\n",
    "password=input(\"Enter your password:\")\n",
    "if check_password(password):\n",
    "    print(\"Strong password\")\n",
    "else:\n",
    "    print(\"Weak password\")\n"
   ]
  },
  {
   "cell_type": "code",
   "execution_count": 2,
   "id": "f7a9c6aa",
   "metadata": {},
   "outputs": [
    {
     "name": "stdout",
     "output_type": "stream",
     "text": [
      "Options: +,-,*,/\n",
      "Type exit to quit\n",
      "50.0\n",
      "Options: +,-,*,/\n",
      "Type exit to quit\n",
      "-10.0\n",
      "Options: +,-,*,/\n",
      "Type exit to quit\n"
     ]
    }
   ],
   "source": [
    "'''Problem: Implement a calculator with +, -, *, / operations.'''\n",
    "def calculator():\n",
    "    while(True):\n",
    "        print(\"Options: +,-,*,/\\nType exit to quit\")\n",
    "        op=input(\"Enter your choice:\")\n",
    "        if(op==\"exit\"):\n",
    "            break\n",
    "        if op in ('+','-','*','/'):\n",
    "            num1=float(input(\"Enter first number:\"))\n",
    "            num2=float(input(\"Enter second number:\"))\n",
    "            if op=='+':\n",
    "                print(num1+num2)\n",
    "            elif op=='-':\n",
    "                print(num1-num2)\n",
    "            elif op=='*':\n",
    "                print(num1*num2)\n",
    "            elif op=='/':\n",
    "                if num2!=0:\n",
    "                    print(num1/num2)\n",
    "                else:\n",
    "                    print(\"Can't divide by zero\")\n",
    "            else:\n",
    "                print(\"Invalid operation\")\n",
    "                \n",
    "calculator()"
   ]
  },
  {
   "cell_type": "code",
   "execution_count": 5,
   "id": "f0118510",
   "metadata": {},
   "outputs": [
    {
     "name": "stdout",
     "output_type": "stream",
     "text": [
      "Enter a list of names separated by commas:\n",
      "Duplicates are: ['apple', 'kiwi']\n"
     ]
    }
   ],
   "source": [
    "'''Problem: Given a list of student names, find duplicates.'''\n",
    "def find_dupicates(l):\n",
    "    original=set()\n",
    "    duplicates=set()\n",
    "    for name in l:\n",
    "        if name in original:\n",
    "            duplicates.add(name)\n",
    "        else:\n",
    "            original.add(name)\n",
    "    return list(duplicates)\n",
    "print(\"Enter a list of names separated by commas:\")\n",
    "names=input().split(',')\n",
    "res=find_dupicates(names)\n",
    "print(\"Duplicates are:\",res)"
   ]
  },
  {
   "cell_type": "code",
   "execution_count": 6,
   "id": "5356cfd9",
   "metadata": {},
   "outputs": [
    {
     "name": "stdout",
     "output_type": "stream",
     "text": [
      "32.0C is 89.6F\n"
     ]
    }
   ],
   "source": [
    "'''Problem: Convert between Celsius and Fahrenheit.'''\n",
    "def converter():\n",
    "    choice=input(\"Enter C to convert Celsius to Fahrenheit or F to convert Fahrenhiet to Celsius:\")\n",
    "    if choice=='C':\n",
    "        cels=float(input(\"Enter temp in Celsius:\"))\n",
    "        fahr=(cels*9/5)+32\n",
    "        print(f\"{cels}C is {fahr}F\")\n",
    "    elif choice=='F':\n",
    "        fahr=float(input(\"Enter temp in Fahrenheit:\"))\n",
    "        cels=(fahr-32)*5/9\n",
    "        print(f\"{fahr}F is {cels}C\")\n",
    "    else:\n",
    "        print(\"Invalid choice\")\n",
    "converter()"
   ]
  },
  {
   "cell_type": "code",
   "execution_count": 7,
   "id": "53755612",
   "metadata": {},
   "outputs": [
    {
     "name": "stdout",
     "output_type": "stream",
     "text": [
      "Enter a list of integers separated by commas:\n",
      "Largest number is: 100\n"
     ]
    }
   ],
   "source": [
    "'''Problem: Find the largest number from a list of integers.'''\n",
    "def find_largest(l):\n",
    "    max=l[0]\n",
    "    for num in l:\n",
    "        if num>max:\n",
    "            max=num\n",
    "    return max\n",
    "print(\"Enter a list of integers separated by commas:\")\n",
    "nums=list(map(int,input().split(',')))\n",
    "res=find_largest(nums)\n",
    "print(\"Largest number is:\",res)\n"
   ]
  },
  {
   "cell_type": "code",
   "execution_count": 8,
   "id": "1b4064fc",
   "metadata": {},
   "outputs": [
    {
     "name": "stdout",
     "output_type": "stream",
     "text": [
      "Simple Interest is: 150.0\n"
     ]
    }
   ],
   "source": [
    "'''Problem: Calculate Simple Interest.'''\n",
    "def simple_interest(p,r,t):\n",
    "    return (p*t*r)/100\n",
    "p=float(input(\"Enter principal amount:\"))\n",
    "r=float(input(\"Enter rate of interest:\"))\n",
    "t=float(input(\"Enter time in years:\"))\n",
    "si=simple_interest(p,r,t)\n",
    "print(\"Simple Interest is:\",si)"
   ]
  },
  {
   "cell_type": "code",
   "execution_count": 11,
   "id": "e24431c4",
   "metadata": {},
   "outputs": [
    {
     "name": "stdout",
     "output_type": "stream",
     "text": [
      "Enter number of students:\n",
      "['aby']\n"
     ]
    }
   ],
   "source": [
    "'''Problem: Given a dictionary of student names and attendance %, find defaulters (<75%).'''\n",
    "def find_defaulters(attendance):\n",
    "    defaulters=[]\n",
    "    for name, att in attendance.items():\n",
    "        if att<75:\n",
    "            defaulters.append(name)\n",
    "    return defaulters\n",
    "print(\"Enter number of students:\")\n",
    "n=int(input())\n",
    "attendance={}\n",
    "for _ in range(n):\n",
    "    name=input(\"Enter student name:\")\n",
    "    att=float(input(\"Enter attendance %:\"))\n",
    "    attendance[name]=att\n",
    "\n",
    "sett=find_defaulters(attendance)\n",
    "print(sett)"
   ]
  },
  {
   "cell_type": "code",
   "execution_count": 13,
   "id": "6ac6e1b3",
   "metadata": {},
   "outputs": [
    {
     "name": "stdout",
     "output_type": "stream",
     "text": [
      "10\n"
     ]
    }
   ],
   "source": [
    "'''Problem: Input: 1234 → Output: 10'''\n",
    "def sum_of_digits(n):\n",
    "    sum=0\n",
    "    while n>0:\n",
    "        digit=n%10\n",
    "        sum+=digit\n",
    "        n=n//10\n",
    "    return sum\n",
    "num=int(input(\"Enter a number:\"))\n",
    "print(sum_of_digits(num))"
   ]
  },
  {
   "cell_type": "code",
   "execution_count": 14,
   "id": "30730446",
   "metadata": {},
   "outputs": [
    {
     "name": "stdout",
     "output_type": "stream",
     "text": [
      "23 is prime\n"
     ]
    }
   ],
   "source": [
    "'''Problem: Write a function to check if a number is prime.'''\n",
    "def prime(n):\n",
    "    if n<=10:\n",
    "        return False\n",
    "    for i in range(2,int(n**0.5)+1):\n",
    "        if n%i==0:\n",
    "            return False\n",
    "    return True\n",
    "num=int(input(\"Enter a number:\"))\n",
    "if prime(num):\n",
    "    print(num,\"is prime\")\n",
    "else:\n",
    "    print(num,\"is not prime\")\n"
   ]
  },
  {
   "cell_type": "code",
   "execution_count": 15,
   "id": "31d1be6d",
   "metadata": {},
   "outputs": [
    {
     "name": "stdout",
     "output_type": "stream",
     "text": [
      "Enter a list of integers separated by commas:\n",
      "Smallest number is: 1\n",
      "Largest number is: 5\n"
     ]
    }
   ],
   "source": [
    "'''Problem: Find smallest and largest numbers from a list.'''\n",
    "def find_smallest_largest(l):\n",
    "    smallest=l[0]\n",
    "    largest=l[0]\n",
    "    for num in l:\n",
    "        if num<smallest:\n",
    "            smallest=num\n",
    "        if num>largest:\n",
    "            largest=num\n",
    "    return smallest,largest\n",
    "print(\"Enter a list of integers separated by commas:\")\n",
    "nums=list(map(int,input().split(',')))\n",
    "small,large=find_smallest_largest(nums)\n",
    "print(\"Smallest number is:\",small)\n",
    "print(\"Largest number is:\",large)\n"
   ]
  },
  {
   "cell_type": "code",
   "execution_count": null,
   "id": "5a7d8fcc",
   "metadata": {},
   "outputs": [],
   "source": [
    "'''Problem: Given items with prices in a dictionary, calculate total bill.'''\n",
    "def find_bill(prices):\n",
    "    total=0\n",
    "    for item, price in prices.items():\n",
    "        total+=price\n",
    "    return total\n",
    "print(\"Enter number of items:\")\n",
    "n=int(input())\n",
    "prices={}\n",
    "for _ in range(n):\n",
    "    item=input(\"Enter item name:\")\n",
    "    price=float(input(\"Enter item price:\"))\n",
    "    prices[item]=price\n",
    "bill=find_bill(prices)\n",
    "print(\"Total bill is:\",bill)\n"
   ]
  },
  {
   "cell_type": "code",
   "execution_count": 16,
   "id": "87ccdd91",
   "metadata": {},
   "outputs": [
    {
     "name": "stdout",
     "output_type": "stream",
     "text": [
      "50.0 is largest\n"
     ]
    }
   ],
   "source": [
    "'''Problem: Input 3 numbers, print the largest.'''\n",
    "a=float(input(\"Enter first number:\"))\n",
    "b=float(input(\"Enter second number:\"))\n",
    "c=float(input(\"Enter third number:\"))\n",
    "if a>=b and a>=c:\n",
    "    print(a,\"is largest\")\n",
    "elif b>=a and b>=c:\n",
    "    print(b,\"is largest\")\n",
    "else:\n",
    "    print(c,\"is largest\")\n",
    "    "
   ]
  },
  {
   "cell_type": "code",
   "execution_count": 17,
   "id": "56847f38",
   "metadata": {},
   "outputs": [
    {
     "name": "stdout",
     "output_type": "stream",
     "text": [
      "Character counts: {'i': 2, 't': 2, ' ': 4, 'w': 1, 'a': 4, 's': 2, 'l': 2, 'm': 1, 'k': 1, 'e': 1}\n"
     ]
    }
   ],
   "source": [
    "'''Problem: Count how many times each character appears in a string.'''\n",
    "def char_count(s):\n",
    "    count={}\n",
    "    for char in s:\n",
    "        if char in count:\n",
    "            count[char]+=1\n",
    "        else:\n",
    "            count[char]=1\n",
    "    return count\n",
    "string=input(\"Enter a string:\")\n",
    "res=char_count(string)\n",
    "print(\"Character counts:\",res)\n"
   ]
  },
  {
   "cell_type": "code",
   "execution_count": 18,
   "id": "8ca00bb9",
   "metadata": {},
   "outputs": [
    {
     "name": "stdout",
     "output_type": "stream",
     "text": [
      "Enter number of units consumed:\n",
      "Electricity bill is:₹ 500\n"
     ]
    }
   ],
   "source": [
    "'''Problem: Calculate electricity bill:\n",
    "First 100 units → ₹5/unit\n",
    "Next 100 units → ₹7/unit\n",
    "Above 200 units → ₹10/unit'''\n",
    "def electricity_bill(units):\n",
    "    if units<=100:\n",
    "        bill=units*5\n",
    "    elif units<=200:\n",
    "        bill=100*5+(units-100)*7\n",
    "    else:\n",
    "        bill=100*5+100*7+(units-200)*10\n",
    "    return bill\n",
    "print(\"Enter number of units consumed:\")\n",
    "units=int(input())  \n",
    "bill=electricity_bill(units)\n",
    "print(\"Electricity bill is:₹\",bill)\n",
    "\n"
   ]
  },
  {
   "cell_type": "code",
   "execution_count": 19,
   "id": "f9b9f0af",
   "metadata": {},
   "outputs": [
    {
     "name": "stdout",
     "output_type": "stream",
     "text": [
      "Enter a list of names separated by commas:\n",
      "Sorted names: ['avi', 'raj', 'sneha']\n"
     ]
    }
   ],
   "source": [
    "'''Problem: Sort a list of names in ascending order.'''\n",
    "def sort_names(names):\n",
    "    return sorted(names)\n",
    "print(\"Enter a list of names separated by commas:\")\n",
    "names=input().split(',')\n",
    "sorted_names=sort_names(names)\n",
    "print(\"Sorted names:\",sorted_names)\n"
   ]
  },
  {
   "cell_type": "code",
   "execution_count": null,
   "id": "9bc8a127",
   "metadata": {},
   "outputs": [],
   "source": [
    "'''Problem: Input: 1234 → Output: 4321'''\n",
    "def reverse_number(n):\n",
    "    rev=0\n",
    "    while n>0:\n",
    "        digit=n%10\n",
    "        rev=rev*10+digit\n",
    "        n=n//10\n",
    "    return rev"
   ]
  }
 ],
 "metadata": {
  "kernelspec": {
   "display_name": "base",
   "language": "python",
   "name": "python3"
  },
  "language_info": {
   "codemirror_mode": {
    "name": "ipython",
    "version": 3
   },
   "file_extension": ".py",
   "mimetype": "text/x-python",
   "name": "python",
   "nbconvert_exporter": "python",
   "pygments_lexer": "ipython3",
   "version": "3.13.5"
  }
 },
 "nbformat": 4,
 "nbformat_minor": 5
}
